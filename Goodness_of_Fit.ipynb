{
 "cells": [
  {
   "cell_type": "markdown",
   "metadata": {},
   "source": [
    "# Goodness of Fit"
   ]
  },
  {
   "cell_type": "code",
   "execution_count": 3,
   "metadata": {
    "collapsed": true
   },
   "outputs": [],
   "source": [
    "#Load your packages\n",
    "import numpy as np\n",
    "from scipy import stats\n",
    "import matplotlib.pyplot as plt\n",
    "import pandas as pa\n",
    "\n",
    "\n",
    "%matplotlib inline"
   ]
  },
  {
   "cell_type": "code",
   "execution_count": 3,
   "metadata": {
    "collapsed": true
   },
   "outputs": [],
   "source": [
    "#https://docs.scipy.org/doc/scipy/reference/stats.html"
   ]
  },
  {
   "cell_type": "markdown",
   "metadata": {},
   "source": [
    "# All time Greats!"
   ]
  },
  {
   "cell_type": "code",
   "execution_count": 6,
   "metadata": {},
   "outputs": [],
   "source": [
    "data = pa.read_csv('blues.csv')"
   ]
  },
  {
   "cell_type": "markdown",
   "metadata": {
    "collapsed": true
   },
   "source": [
    "I am going to look at Benford's Law here!  It says that the leading digit of any number in the data set has a proportion of $\\log_{10}\\left(1+\\frac1d\\right)$"
   ]
  },
  {
   "cell_type": "code",
   "execution_count": 10,
   "metadata": {
    "collapsed": true
   },
   "outputs": [],
   "source": [
    "def f(x):\n",
    "    return(np.log10(1+1/x))"
   ]
  },
  {
   "cell_type": "code",
   "execution_count": 12,
   "metadata": {},
   "outputs": [
    {
     "data": {
      "text/plain": [
       "0.3010299956639812"
      ]
     },
     "execution_count": 12,
     "metadata": {},
     "output_type": "execute_result"
    }
   ],
   "source": [
    "#Let's try it! The most probable digit is 1.\n",
    "\n",
    "f(1)"
   ]
  },
  {
   "cell_type": "code",
   "execution_count": 14,
   "metadata": {},
   "outputs": [
    {
     "data": {
      "text/plain": [
       "array([1, 2, 3, 4, 5, 6, 7, 8, 9])"
      ]
     },
     "execution_count": 14,
     "metadata": {},
     "output_type": "execute_result"
    }
   ],
   "source": [
    "#so \n",
    "x = np.arange(1,10,1)\n",
    "x"
   ]
  },
  {
   "cell_type": "code",
   "execution_count": 15,
   "metadata": {},
   "outputs": [
    {
     "data": {
      "text/plain": [
       "array([ 0.30103   ,  0.17609126,  0.12493874,  0.09691001,  0.07918125,\n",
       "        0.06694679,  0.05799195,  0.05115252,  0.04575749])"
      ]
     },
     "execution_count": 15,
     "metadata": {},
     "output_type": "execute_result"
    }
   ],
   "source": [
    "#These are the supposed proportions of the first digits.\n",
    "f(x)"
   ]
  },
  {
   "cell_type": "code",
   "execution_count": 33,
   "metadata": {},
   "outputs": [],
   "source": [
    "#Now lets try and get the first digits from my data I will use GP or games played\n",
    "gp = np.array(data.iloc[1:,6])"
   ]
  },
  {
   "cell_type": "code",
   "execution_count": 37,
   "metadata": {},
   "outputs": [
    {
     "data": {
      "text/plain": [
       "'2'"
      ]
     },
     "execution_count": 37,
     "metadata": {},
     "output_type": "execute_result"
    }
   ],
   "source": [
    "gp[0][0]"
   ]
  },
  {
   "cell_type": "code",
   "execution_count": 49,
   "metadata": {},
   "outputs": [],
   "source": [
    "firstdig = []\n",
    "for i in range (0,len(gp)):\n",
    "    firstdig.append(gp[i][0])"
   ]
  },
  {
   "cell_type": "code",
   "execution_count": 50,
   "metadata": {},
   "outputs": [
    {
     "data": {
      "text/plain": [
       "['2',\n",
       " '7',\n",
       " '5',\n",
       " '1',\n",
       " '5',\n",
       " '5',\n",
       " '2',\n",
       " '7',\n",
       " '6',\n",
       " '7',\n",
       " '7',\n",
       " '1',\n",
       " '2',\n",
       " '9',\n",
       " '8',\n",
       " '3',\n",
       " '7',\n",
       " '2',\n",
       " '7',\n",
       " '3',\n",
       " '1',\n",
       " '4',\n",
       " '2',\n",
       " '1',\n",
       " '1',\n",
       " '2',\n",
       " '1',\n",
       " '1',\n",
       " '2',\n",
       " '1',\n",
       " '1',\n",
       " '6',\n",
       " '1',\n",
       " '5',\n",
       " '2',\n",
       " '2',\n",
       " '5',\n",
       " '3',\n",
       " '6',\n",
       " '3',\n",
       " '1',\n",
       " '1',\n",
       " '1',\n",
       " '2',\n",
       " '3',\n",
       " '5',\n",
       " '1',\n",
       " '7',\n",
       " '1',\n",
       " '4',\n",
       " '3',\n",
       " '3',\n",
       " '5',\n",
       " '7',\n",
       " '1',\n",
       " '6',\n",
       " '6',\n",
       " '3',\n",
       " '1',\n",
       " '1',\n",
       " '2',\n",
       " '3',\n",
       " '1',\n",
       " '8',\n",
       " '3',\n",
       " '4',\n",
       " '1',\n",
       " '2',\n",
       " '2',\n",
       " '5',\n",
       " '2',\n",
       " '5',\n",
       " '1',\n",
       " '4',\n",
       " '2',\n",
       " '1',\n",
       " '2',\n",
       " '3',\n",
       " '4',\n",
       " '1',\n",
       " '1',\n",
       " '2',\n",
       " '4',\n",
       " '1',\n",
       " '4',\n",
       " '3',\n",
       " '1',\n",
       " '3',\n",
       " '9',\n",
       " '2',\n",
       " '2',\n",
       " '6',\n",
       " '7',\n",
       " '3',\n",
       " '2',\n",
       " '1',\n",
       " '8',\n",
       " '1',\n",
       " '4',\n",
       " '3',\n",
       " '7',\n",
       " '8',\n",
       " '3',\n",
       " '5',\n",
       " '4',\n",
       " '6',\n",
       " '3',\n",
       " '1',\n",
       " '2',\n",
       " '2',\n",
       " '3',\n",
       " '6',\n",
       " '2',\n",
       " '2',\n",
       " '4',\n",
       " '1',\n",
       " '3',\n",
       " '4',\n",
       " '6',\n",
       " '4',\n",
       " '7',\n",
       " '1',\n",
       " '3',\n",
       " '4',\n",
       " '1',\n",
       " '9',\n",
       " '5',\n",
       " '2',\n",
       " '9',\n",
       " '1',\n",
       " '4',\n",
       " '3',\n",
       " '2',\n",
       " '1',\n",
       " '2',\n",
       " '2',\n",
       " '3',\n",
       " '1',\n",
       " '2',\n",
       " '8',\n",
       " '2',\n",
       " '9',\n",
       " '8',\n",
       " '1',\n",
       " '3',\n",
       " '2',\n",
       " '1',\n",
       " '2',\n",
       " '1',\n",
       " '1',\n",
       " '7',\n",
       " '5',\n",
       " '1',\n",
       " '1',\n",
       " '1',\n",
       " '1',\n",
       " '7',\n",
       " '1',\n",
       " '1',\n",
       " '6',\n",
       " '5',\n",
       " '1',\n",
       " '9',\n",
       " '1',\n",
       " '1',\n",
       " '3',\n",
       " '3',\n",
       " '1',\n",
       " '4',\n",
       " '9',\n",
       " '1',\n",
       " '3',\n",
       " '1',\n",
       " '8',\n",
       " '2',\n",
       " '2',\n",
       " '1',\n",
       " '6',\n",
       " '2',\n",
       " '6',\n",
       " '3',\n",
       " '3',\n",
       " '1',\n",
       " '1',\n",
       " '4',\n",
       " '3',\n",
       " '2',\n",
       " '7',\n",
       " '2',\n",
       " '3',\n",
       " '1',\n",
       " '6',\n",
       " '2',\n",
       " '1',\n",
       " '7',\n",
       " '3',\n",
       " '1',\n",
       " '4',\n",
       " '1',\n",
       " '2',\n",
       " '5',\n",
       " '1',\n",
       " '1',\n",
       " '2',\n",
       " '1',\n",
       " '7',\n",
       " '2',\n",
       " '6',\n",
       " '1',\n",
       " '1',\n",
       " '2',\n",
       " '4',\n",
       " '3',\n",
       " '6',\n",
       " '1',\n",
       " '2',\n",
       " '1',\n",
       " '7',\n",
       " '1',\n",
       " '5',\n",
       " '7',\n",
       " '5',\n",
       " '1',\n",
       " '4',\n",
       " '4',\n",
       " '2',\n",
       " '2',\n",
       " '2',\n",
       " '8',\n",
       " '4',\n",
       " '1',\n",
       " '3',\n",
       " '1',\n",
       " '4',\n",
       " '7',\n",
       " '9',\n",
       " '2',\n",
       " '2',\n",
       " '1',\n",
       " '8',\n",
       " '1',\n",
       " '1',\n",
       " '2',\n",
       " '1',\n",
       " '3',\n",
       " '6',\n",
       " '2',\n",
       " '1',\n",
       " '2',\n",
       " '2',\n",
       " '1',\n",
       " '8',\n",
       " '4',\n",
       " '2',\n",
       " '9',\n",
       " '1',\n",
       " '8',\n",
       " '2',\n",
       " '5',\n",
       " '1',\n",
       " '3',\n",
       " '5',\n",
       " '2',\n",
       " '9',\n",
       " '7',\n",
       " '1',\n",
       " '1',\n",
       " '2',\n",
       " '1',\n",
       " '4',\n",
       " '2',\n",
       " '1',\n",
       " '1',\n",
       " '1',\n",
       " '7',\n",
       " '1',\n",
       " '2',\n",
       " '3',\n",
       " '7',\n",
       " '1',\n",
       " '1',\n",
       " '2',\n",
       " '3',\n",
       " '7',\n",
       " '2',\n",
       " '7',\n",
       " '1',\n",
       " '6',\n",
       " '2',\n",
       " '2',\n",
       " '2',\n",
       " '1',\n",
       " '4',\n",
       " '2',\n",
       " '3',\n",
       " '2',\n",
       " '2',\n",
       " '2',\n",
       " '8',\n",
       " '7',\n",
       " '4',\n",
       " '6',\n",
       " '3',\n",
       " '4',\n",
       " '3',\n",
       " '8',\n",
       " '2',\n",
       " '3',\n",
       " '2',\n",
       " '1',\n",
       " '1',\n",
       " '6',\n",
       " '6',\n",
       " '1',\n",
       " '1',\n",
       " '4',\n",
       " '6',\n",
       " '2',\n",
       " '1',\n",
       " '2',\n",
       " '8',\n",
       " '5',\n",
       " '4',\n",
       " '2',\n",
       " '5',\n",
       " '3',\n",
       " '1',\n",
       " '9',\n",
       " '5',\n",
       " '1',\n",
       " '7',\n",
       " '4',\n",
       " '4',\n",
       " '2',\n",
       " '2',\n",
       " '1',\n",
       " '2',\n",
       " '1',\n",
       " '1',\n",
       " '3',\n",
       " '6',\n",
       " '1',\n",
       " '1',\n",
       " '1',\n",
       " '4',\n",
       " '4',\n",
       " '2',\n",
       " '7',\n",
       " '2',\n",
       " '2',\n",
       " '1',\n",
       " '1',\n",
       " '2',\n",
       " '1',\n",
       " '6',\n",
       " '2',\n",
       " '9',\n",
       " '5',\n",
       " '6',\n",
       " '2',\n",
       " '1',\n",
       " '7',\n",
       " '3',\n",
       " '5',\n",
       " '1',\n",
       " '1',\n",
       " '1',\n",
       " '5',\n",
       " '2',\n",
       " '1',\n",
       " '2',\n",
       " '1',\n",
       " '1',\n",
       " '5',\n",
       " '1',\n",
       " '4',\n",
       " '6',\n",
       " '1',\n",
       " '9',\n",
       " '6',\n",
       " '2',\n",
       " '6',\n",
       " '2',\n",
       " '1',\n",
       " '6',\n",
       " '9',\n",
       " '4',\n",
       " '1',\n",
       " '4',\n",
       " '5',\n",
       " '7',\n",
       " '3',\n",
       " '1',\n",
       " '5',\n",
       " '4',\n",
       " '1',\n",
       " '9',\n",
       " '1',\n",
       " '1',\n",
       " '1',\n",
       " '1',\n",
       " '3',\n",
       " '2',\n",
       " '3',\n",
       " '6',\n",
       " '4',\n",
       " '1',\n",
       " '2',\n",
       " '4',\n",
       " '2',\n",
       " '4',\n",
       " '1',\n",
       " '4',\n",
       " '1',\n",
       " '4',\n",
       " '3',\n",
       " '6',\n",
       " '2',\n",
       " '1',\n",
       " '2',\n",
       " '6',\n",
       " '8',\n",
       " '6',\n",
       " '1',\n",
       " '6',\n",
       " '3',\n",
       " '4',\n",
       " '4',\n",
       " '9',\n",
       " '7',\n",
       " '1',\n",
       " '4',\n",
       " '3',\n",
       " '9',\n",
       " '1',\n",
       " '8',\n",
       " '8',\n",
       " '5',\n",
       " '1',\n",
       " '1',\n",
       " '1',\n",
       " '2',\n",
       " '4',\n",
       " '3',\n",
       " '9',\n",
       " '4',\n",
       " '2',\n",
       " '2',\n",
       " '3',\n",
       " '8',\n",
       " '1',\n",
       " '9',\n",
       " '1',\n",
       " '4',\n",
       " '3',\n",
       " '6',\n",
       " '1',\n",
       " '2',\n",
       " '5',\n",
       " '1',\n",
       " '4',\n",
       " '1',\n",
       " '3',\n",
       " '2',\n",
       " '1',\n",
       " '9',\n",
       " '7',\n",
       " '1',\n",
       " '7',\n",
       " '1',\n",
       " '7',\n",
       " '1',\n",
       " '4',\n",
       " '7',\n",
       " '4',\n",
       " '9',\n",
       " '5',\n",
       " '6',\n",
       " '1',\n",
       " '6',\n",
       " '8',\n",
       " '1',\n",
       " '4',\n",
       " '1',\n",
       " '1',\n",
       " '4',\n",
       " '1',\n",
       " '4',\n",
       " '5',\n",
       " '5',\n",
       " '2',\n",
       " '4',\n",
       " '1',\n",
       " '1',\n",
       " '1',\n",
       " '2',\n",
       " '6',\n",
       " '1',\n",
       " '3',\n",
       " '2',\n",
       " '4',\n",
       " '6',\n",
       " '7',\n",
       " '6',\n",
       " '3',\n",
       " '1',\n",
       " '5',\n",
       " '4',\n",
       " '1',\n",
       " '2',\n",
       " '2',\n",
       " '5',\n",
       " '6',\n",
       " '2',\n",
       " '4',\n",
       " '7',\n",
       " '8',\n",
       " '8',\n",
       " '2',\n",
       " '1',\n",
       " '1',\n",
       " '6',\n",
       " '3',\n",
       " '7',\n",
       " '9',\n",
       " '7',\n",
       " '7',\n",
       " '2',\n",
       " '1',\n",
       " '6',\n",
       " '4',\n",
       " '1',\n",
       " '4',\n",
       " '5',\n",
       " '5',\n",
       " '2',\n",
       " '4',\n",
       " '4',\n",
       " '5',\n",
       " '5',\n",
       " '1',\n",
       " '5',\n",
       " '6',\n",
       " '1',\n",
       " '2',\n",
       " '6',\n",
       " '3',\n",
       " '3',\n",
       " '1',\n",
       " '2',\n",
       " '6',\n",
       " '2',\n",
       " '6',\n",
       " '5',\n",
       " '4',\n",
       " '7',\n",
       " '1',\n",
       " '4',\n",
       " '2',\n",
       " '4',\n",
       " '1',\n",
       " '2',\n",
       " '2',\n",
       " '1',\n",
       " '1',\n",
       " '3',\n",
       " '8',\n",
       " '7',\n",
       " '2',\n",
       " '3',\n",
       " '2',\n",
       " '1',\n",
       " '3',\n",
       " '2',\n",
       " '1',\n",
       " '3',\n",
       " '4',\n",
       " '1',\n",
       " '2',\n",
       " '2',\n",
       " '1',\n",
       " '1',\n",
       " '1',\n",
       " '3',\n",
       " '1',\n",
       " '1',\n",
       " '4',\n",
       " '3',\n",
       " '1',\n",
       " '3',\n",
       " '4',\n",
       " '1',\n",
       " '2',\n",
       " '2',\n",
       " '2',\n",
       " '2']"
      ]
     },
     "execution_count": 50,
     "metadata": {},
     "output_type": "execute_result"
    }
   ],
   "source": [
    "\n",
    "\n",
    "firstdig\n"
   ]
  },
  {
   "cell_type": "code",
   "execution_count": 51,
   "metadata": {},
   "outputs": [
    {
     "data": {
      "text/plain": [
       "array(['274', '7', '51', '144', '59', '51', '231', '70', '6', '72', '73',\n",
       "       '18', '2', '95', '8', '396', '727', '228', '71', '35', '143', '409',\n",
       "       '23', '150', '149', '284', '16', '13', '24', '1', '120', '6', '159',\n",
       "       '52', '232', '2', '519', '328', '694', '37', '125', '119', '1',\n",
       "       '203', '373', '50', '12', '71', '127', '414', '34', '327', '53',\n",
       "       '7', '144', '6', '61', '332', '13', '157', '226', '32', '17', '82',\n",
       "       '329', '455', '12', '2', '20', '5', '208', '58', '155', '4', '269',\n",
       "       '182', '201', '3', '42', '1', '112', '26', '4', '14', '454', '337',\n",
       "       '175', '345', '92', '22', '2', '64', '78', '3', '284', '167', '82',\n",
       "       '10', '43', '359', '70', '88', '326', '5', '41', '65', '38', '109',\n",
       "       '285', '265', '325', '69', '207', '29', '40', '160', '37', '46',\n",
       "       '68', '43', '7', '118', '37', '494', '12', '94', '5', '2', '93',\n",
       "       '17', '443', '3', '28', '163', '23', '25', '324', '133', '22', '85',\n",
       "       '2', '98', '82', '16', '336', '230', '12', '260', '147', '13', '7',\n",
       "       '52', '12', '165', '153', '163', '7', '124', '150', '65', '5',\n",
       "       '144', '927', '18', '15', '371', '3', '160', '4', '92', '1', '37',\n",
       "       '15', '8', '23', '245', '127', '63', '22', '61', '39', '384', '120',\n",
       "       '150', '40', '31', '21', '72', '26', '36', '18', '61', '270', '16',\n",
       "       '78', '3', '135', '4', '183', '2', '56', '1', '11', '24', '106',\n",
       "       '70', '2', '66', '138', '107', '22', '44', '3', '68', '13', '293',\n",
       "       '125', '71', '150', '52', '7', '50', '1', '47', '41', '26', '28',\n",
       "       '201', '87', '43', '12', '32', '10', '43', '744', '9', '218', '25',\n",
       "       '138', '803', '186', '165', '266', '1', '3', '64', '203', '17',\n",
       "       '21', '289', '188', '8', '4', '23', '92', '168', '8', '267', '56',\n",
       "       '152', '37', '5', '284', '9', '72', '101', '19', '225', '1', '4',\n",
       "       '22', '124', '147', '122', '7', '16', '26', '38', '71', '10', '114',\n",
       "       '22', '33', '74', '29', '71', '116', '62', '231', '272', '20',\n",
       "       '102', '46', '26', '31', '2', '233', '218', '81', '76', '49', '61',\n",
       "       '37', '40', '34', '88', '250', '311', '26', '19', '1', '613', '64',\n",
       "       '116', '187', '4', '63', '20', '16', '2', '81', '54', '47', '2',\n",
       "       '53', '33', '120', '97', '595', '141', '78', '449', '43', '282',\n",
       "       '2', '152', '294', '158', '151', '39', '6', '112', '15', '1', '413',\n",
       "       '4', '235', '73', '209', '20', '15', '137', '22', '162', '6', '222',\n",
       "       '97', '50', '67', '27', '115', '71', '301', '54', '102', '127', '1',\n",
       "       '51', '255', '151', '22', '19', '110', '52', '14', '48', '61', '14',\n",
       "       '94', '67', '2', '64', '23', '147', '62', '95', '41', '195', '4',\n",
       "       '55', '78', '31', '16', '5', '443', '122', '9', '189', '16', '108',\n",
       "       '12', '304', '21', '330', '603', '43', '1', '263', '45', '296',\n",
       "       '44', '11', '467', '149', '44', '365', '61', '279', '15', '23',\n",
       "       '668', '8', '614', '127', '616', '357', '4', '41', '91', '78', '1',\n",
       "       '424', '37', '9', '173', '8', '83', '598', '1', '14', '101', '235',\n",
       "       '441', '30', '95', '419', '23', '28', '320', '8', '1', '94', '148',\n",
       "       '49', '36', '68', '184', '22', '5', '148', '48', '166', '395', '22',\n",
       "       '180', '9', '75', '153', '7', '12', '76', '160', '463', '76', '447',\n",
       "       '97', '56', '69', '13', '6', '8', '137', '42', '122', '113', '429',\n",
       "       '160', '49', '59', '5', '277', '425', '12', '11', '17', '22', '64',\n",
       "       '18', '38', '26', '42', '6', '73', '61', '329', '17', '5', '403',\n",
       "       '16', '267', '23', '50', '691', '233', '4', '78', '89', '88', '211',\n",
       "       '19', '171', '67', '3', '7', '96', '77', '779', '250', '163', '6',\n",
       "       '47', '172', '482', '50', '50', '22', '41', '411', '51', '54',\n",
       "       '174', '543', '6', '10', '2', '62', '327', '396', '144', '294',\n",
       "       '662', '206', '69', '55', '4', '7', '11', '42', '25', '46', '175',\n",
       "       '25', '22', '11', '135', '364', '85', '76', '2', '3', '2', '19',\n",
       "       '33', '230', '122', '31', '45', '141', '235', '248', '185', '152',\n",
       "       '1', '32', '1', '151', '40', '39', '132', '377', '40', '11', '217',\n",
       "       '2', '232', '296'], dtype=object)"
      ]
     },
     "execution_count": 51,
     "metadata": {},
     "output_type": "execute_result"
    }
   ],
   "source": [
    "gp\n",
    "\n",
    "#Just the first digits of this column!"
   ]
  },
  {
   "cell_type": "code",
   "execution_count": 53,
   "metadata": {},
   "outputs": [],
   "source": [
    "fd = np.array(firstdig)#make it an array"
   ]
  },
  {
   "cell_type": "code",
   "execution_count": 54,
   "metadata": {},
   "outputs": [],
   "source": [
    "fd = fd.astype(int)#so that you can make it an int in one swoop"
   ]
  },
  {
   "cell_type": "code",
   "execution_count": 59,
   "metadata": {},
   "outputs": [],
   "source": [
    "count = np.histogram(fd, bins = 9)[0] #Getting the counts with the histogram function"
   ]
  },
  {
   "cell_type": "code",
   "execution_count": 60,
   "metadata": {},
   "outputs": [
    {
     "data": {
      "text/plain": [
       "array([172, 119,  66,  68,  40,  46,  41,  22,  22], dtype=int64)"
      ]
     },
     "execution_count": 60,
     "metadata": {},
     "output_type": "execute_result"
    }
   ],
   "source": [
    "count"
   ]
  },
  {
   "cell_type": "code",
   "execution_count": 61,
   "metadata": {},
   "outputs": [],
   "source": [
    "tot = 0\n",
    "for i in range (0,len(count)):\n",
    "    tot = tot +count[i]"
   ]
  },
  {
   "cell_type": "code",
   "execution_count": 62,
   "metadata": {},
   "outputs": [
    {
     "data": {
      "text/plain": [
       "596"
      ]
     },
     "execution_count": 62,
     "metadata": {},
     "output_type": "execute_result"
    }
   ],
   "source": [
    "tot"
   ]
  },
  {
   "cell_type": "code",
   "execution_count": 72,
   "metadata": {},
   "outputs": [
    {
     "data": {
      "text/plain": [
       "596"
      ]
     },
     "execution_count": 72,
     "metadata": {},
     "output_type": "execute_result"
    }
   ],
   "source": [
    "#Which should agree with \n",
    "len(gp)"
   ]
  },
  {
   "cell_type": "code",
   "execution_count": 64,
   "metadata": {},
   "outputs": [],
   "source": [
    "#so this gives us the actual proportions!\n",
    "prop = count/tot"
   ]
  },
  {
   "cell_type": "code",
   "execution_count": 67,
   "metadata": {},
   "outputs": [
    {
     "data": {
      "text/plain": [
       "Text(0.5,1,'Not too Shabby')"
      ]
     },
     "execution_count": 67,
     "metadata": {},
     "output_type": "execute_result"
    },
    {
     "data": {
      "image/png": "[encoded data removed]",
      "text/plain": [
       "<Figure size 432x288 with 1 Axes>"
      ]
     },
     "metadata": {},
     "output_type": "display_data"
    }
   ],
   "source": [
    "\n",
    "plt.scatter(x, prop) #Our data\n",
    "plt.scatter(x, f(x))#Theoretical \n",
    "plt.title('Not too Shabby')"
   ]
  },
  {
   "cell_type": "code",
   "execution_count": 76,
   "metadata": {
    "collapsed": true
   },
   "outputs": [],
   "source": [
    "#Lets run the hypothesis test now!  Remember to use the expected value!\n",
    "chi2 = 0\n",
    "for i in range (0,len(x)):\n",
    "    chi2 = chi2 + (count[i]-f(x)[i]*tot)**2/(f(x)[i]*tot)"
   ]
  },
  {
   "cell_type": "code",
   "execution_count": 77,
   "metadata": {},
   "outputs": [
    {
     "data": {
      "text/plain": [
       "11.573971384350095"
      ]
     },
     "execution_count": 77,
     "metadata": {},
     "output_type": "execute_result"
    }
   ],
   "source": [
    "chi2"
   ]
  },
  {
   "cell_type": "code",
   "execution_count": 78,
   "metadata": {},
   "outputs": [
    {
     "data": {
      "text/plain": [
       "0.82875179792520659"
      ]
     },
     "execution_count": 78,
     "metadata": {},
     "output_type": "execute_result"
    }
   ],
   "source": [
    "#So this has n-1 df \n",
    "stats.chi2.cdf(chi2,8)"
   ]
  },
  {
   "cell_type": "code",
   "execution_count": 79,
   "metadata": {},
   "outputs": [
    {
     "data": {
      "text/plain": [
       "array([ 179.41387742,  104.9503904 ,   74.46348702,   57.75836775,\n",
       "         47.19202264,   39.90028662,   34.5632004 ,   30.48690338,\n",
       "         27.27146437])"
      ]
     },
     "execution_count": 79,
     "metadata": {},
     "output_type": "execute_result"
    }
   ],
   "source": [
    "#Be careful here!  This test is always right tailed!  \n",
    "#Here I am getting the p value from the left tail so I will fail to reject the null hypothesis\n",
    "#I should also check my conditions are met random data, expected freq is at least 5.\n",
    "f(x)*tot"
   ]
  },
  {
   "cell_type": "code",
   "execution_count": null,
   "metadata": {},
   "outputs": [],
   "source": []
  },
  {
   "cell_type": "code",
   "execution_count": null,
   "metadata": {
    "collapsed": true
   },
   "outputs": [],
   "source": []
  }
 ],
 "metadata": {
  "kernelspec": {
   "display_name": "Python 3",
   "language": "python",
   "name": "python3"
  },
  "language_info": {
   "codemirror_mode": {
    "name": "ipython",
    "version": 3
   },
   "file_extension": ".py",
   "mimetype": "text/x-python",
   "name": "python",
   "nbconvert_exporter": "python",
   "pygments_lexer": "ipython3",
   "version": "3.6.1"
  }
 },
 "nbformat": 4,
 "nbformat_minor": 2
}
