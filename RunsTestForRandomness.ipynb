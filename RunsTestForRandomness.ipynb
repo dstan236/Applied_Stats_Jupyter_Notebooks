{
 "cells": [
  {
   "cell_type": "markdown",
   "metadata": {},
   "source": [
    "# Runs Test For Randomness"
   ]
  },
  {
   "cell_type": "code",
   "execution_count": 1,
   "metadata": {
    "collapsed": true
   },
   "outputs": [],
   "source": [
    "#Load your packages\n",
    "import numpy as np\n",
    "from scipy import stats\n",
    "import matplotlib.pyplot as plt\n",
    "import pandas as pa\n",
    "\n",
    "\n",
    "%matplotlib inline"
   ]
  },
  {
   "cell_type": "code",
   "execution_count": 2,
   "metadata": {
    "collapsed": true
   },
   "outputs": [],
   "source": [
    "#https://docs.scipy.org/doc/scipy/reference/stats.html"
   ]
  },
  {
   "cell_type": "markdown",
   "metadata": {},
   "source": [
    "## All time Greats!"
   ]
  },
  {
   "cell_type": "code",
   "execution_count": 3,
   "metadata": {
    "collapsed": true
   },
   "outputs": [],
   "source": [
    "data = pa.read_csv('blues.csv')"
   ]
  },
  {
   "cell_type": "code",
   "execution_count": 21,
   "metadata": {},
   "outputs": [],
   "source": [
    "plusminus = np.array(data.iloc[1:,10]).astype(int)"
   ]
  },
  {
   "cell_type": "code",
   "execution_count": 22,
   "metadata": {},
   "outputs": [
    {
     "data": {
      "text/plain": [
       "array([ -81,    0,   -2,  -14,    9,   -3,   27,   -4,   -2,   13,    7,\n",
       "        -10,   -3,  -14,   -2,  -18,   65,   -6,   -4,   -7,   -4,  -20,\n",
       "         -6,   15,   27,   12,   -4,   -4,   -3,    0,    7,   -2,  -46,\n",
       "        -18,  -37,    1,  -57,    9,   10,   -1,   17,    0,    0,   25,\n",
       "         39,    7,   -4,  -18,   20,   41,  -19,   -7,   -4,   -2,    6,\n",
       "         -8,   -7,  -75,    0,   25,   14,    0,   -1,    2,  -19,  -29,\n",
       "          1,   -1,    1,   -2,    3,   11,  -37,    3,   15,  -18,   -5,\n",
       "         -2,   11,   -1,    7,    2,   -3,    0,  -12,   99,   -9,  -13,\n",
       "          4,    5,    0,  -15,    2,    1,    9,   40,   -6,    1,  -11,\n",
       "         41,    2,   -1,   30,    1,    3,    5,  -15,   17,   29,  -33,\n",
       "        -39,   -2,   14,    2,  -10,   13,   -6,  -15,   -8,    6,    0,\n",
       "         -1,   10,   99,   -4,    8,   -1,   -2,   13,    0,    2,   -3,\n",
       "          3,   39,   -8,    0,   -4,   11,    4,   10,    1,  -11,   -6,\n",
       "         -2,   14,   22,   -3,   14,    7,    5,    2,   -4,    6,   -5,\n",
       "          1,   -4,   -1,   -4,  -19,  -25,   -1,   15, -123,    2,    2,\n",
       "         46,   -5,    7,   -1,    7,   -1,  -18,    1,    1,   -9,  -13,\n",
       "        -52,   21,   -5,   -5,   -4,  -12,    1,  -44,   -8,   -1,   -4,\n",
       "          3,   -4,    1,   -6,    8,   38,   -3,   -8,    4,  -37,   -1,\n",
       "         21,    2,    4,   -1,    5,   -4,    0,   11,    0,    5,   29,\n",
       "         -9,   -5,    0,   -2,   13,   -5,  -15,   -7,    6,  -18,  -16,\n",
       "          0,   -7,    0,   -1,   16,   -5,    2,  -15,    1,   -3,   -7,\n",
       "          7,    1,   -4,  -16,   -2,  -15,    9,  -28,   53,  -10,  -15,\n",
       "         17,   -3,    1,    0,  -16,   -2,   -4,  -32,    6,    3,   -3,\n",
       "         -4,    2,  -16,    5,   40,   -2,    8,    1,    1,   26,   -6,\n",
       "         -1,  -11,    0,  -35,    0,   -2,    1,  -51,  -13,    1,    6,\n",
       "         -1,   -4,   -9,    1,   -1,    9,   -3,    5,    8,   -3,    8,\n",
       "         -5,  -15,    7,   -1,   -7,   11,   -2,   -2,   -5,    0,   11,\n",
       "         27,   -9,   -3,   -1,    0,    9,   -9,   -8,   -2,   -2,   -8,\n",
       "          4,    2,    0,  132,  -11,    1,    4,    1,  -18,    1,   -6,\n",
       "         -3,   14,   -9,  -14,    0,  -15,  -10,    7,   -6,  -78,    3,\n",
       "        -25,  -60,   -5,   17,    0,   25,  -19,    4,    9,    1,    0,\n",
       "        -21,  -10,   -2,    7,    1,  -11,  -11,   15,    0,    3,    4,\n",
       "         -2,   16,    0,   -8,  -20,    3,   -1,   -8,  -12,    1,   -1,\n",
       "         -6,    7,    9,    0,    0,   15,  -40,   -8,    2,   -7,   -4,\n",
       "         -1,   -4,  -13,    2,    4,   -6,   -1,   25,    1,   13,   23,\n",
       "         -9,  -14,   20,    1,   -1,  -21,   -5,   -2,   -2,   71,  -23,\n",
       "          1,  -11,   -4,   -2,   -3,   43,   -1,   -5,  -89,    6,   -1,\n",
       "        -55,   -1,   33,    0,   -4,   46,    0,    2,    5,    8,   14,\n",
       "         -3,   -4,   66,   -1,   61,  -20,   29,  -17,    3,  -21,    9,\n",
       "         -8,   -2,   -7,   -7,   -1,   -7,    0,   -9,  140,    0,   -5,\n",
       "         -9,  -13,  -45,   -1,    6,   -4,   -2,  -14,    9,   -1,    0,\n",
       "         16,    8,    3,    7,  -23,  -10,   -2,    0,  -21,   -5,   -6,\n",
       "         21,   -4,   11,   -7,   -1,  -13,   -1,    7,   19,  -12,   19,\n",
       "         -9,  -15,    5,    8,   -8,   -3,   -2,    1,   11,   -7,  -13,\n",
       "         -8,   77,  -47,   -6,  -13,    1,    5,   24,    0,   -3,  -13,\n",
       "         -1,  -13,   -2,   -3,    2,   -2,    1,  -31,   -1,   12,   -1,\n",
       "         -1,   31,   -1,    7,   -1,  -13,   40,  -15,   -1,   23,   13,\n",
       "        -28,    7,   -7,   18,    1,    0,    2,   -1,    6,  -66,    7,\n",
       "         -3,   -1,   -6,   25,   69,    2,   -6,   -7,  -12,  -25,   -4,\n",
       "         14,   19,    0,   -6,    1,    0,    6,   65,  -20,   -1,  -15,\n",
       "       -113,    3,   11,    5,   -2,    0,   -4,   -5,   -8,   -9,   -3,\n",
       "          0,  -13,    0,    7,   14,   -9,   -8,    0,    0,    0,    0,\n",
       "         -1,    8,  -38,    2,   -6,    2,   -6,    6,   -7,    2,    0,\n",
       "         -2,   -1,   -6,   -3,    2,    1,   14,   -4,   -6,   -6,    0,\n",
       "         -6,  -17])"
      ]
     },
     "execution_count": 22,
     "metadata": {},
     "output_type": "execute_result"
    }
   ],
   "source": [
    "plusminus"
   ]
  },
  {
   "cell_type": "markdown",
   "metadata": {
    "collapsed": true
   },
   "source": [
    "I am going to to see if the plus/minus of players is truely random (it really should be after all these players were alphabatized and from different eras"
   ]
  },
  {
   "cell_type": "code",
   "execution_count": 32,
   "metadata": {},
   "outputs": [],
   "source": [
    "positive = []\n",
    "for i in range (0,len(plusminus)):\n",
    "    positive.append(plusminus[i]>=0)\n",
    "positive = np.array(positive)"
   ]
  },
  {
   "cell_type": "code",
   "execution_count": 34,
   "metadata": {},
   "outputs": [
    {
     "data": {
      "text/plain": [
       "278"
      ]
     },
     "execution_count": 34,
     "metadata": {},
     "output_type": "execute_result"
    }
   ],
   "source": [
    "sum(positive*1)\n"
   ]
  },
  {
   "cell_type": "code",
   "execution_count": 36,
   "metadata": {},
   "outputs": [
    {
     "data": {
      "text/plain": [
       "318"
      ]
     },
     "execution_count": 36,
     "metadata": {},
     "output_type": "execute_result"
    }
   ],
   "source": [
    "len(plusminus)-278"
   ]
  },
  {
   "cell_type": "code",
   "execution_count": 40,
   "metadata": {},
   "outputs": [],
   "source": [
    "runcounter = 0\n",
    "truth = positive[0]\n",
    "for i in range (1,len(positive)):\n",
    "    if positive[i]!=truth:\n",
    "        runcounter = runcounter+1\n",
    "        truth = positive[i]\n",
    "        "
   ]
  },
  {
   "cell_type": "code",
   "execution_count": 42,
   "metadata": {},
   "outputs": [
    {
     "data": {
      "text/plain": [
       "308"
      ]
     },
     "execution_count": 42,
     "metadata": {},
     "output_type": "execute_result"
    }
   ],
   "source": [
    "runcounter"
   ]
  },
  {
   "cell_type": "code",
   "execution_count": 43,
   "metadata": {},
   "outputs": [],
   "source": [
    "muG = 2*278*318/(278+318)+1\n",
    "sigmaG = np.sqrt(2*278*318*(2*278*318-278-318)/((278+318)**2*(278+318-1)))"
   ]
  },
  {
   "cell_type": "code",
   "execution_count": 44,
   "metadata": {
    "collapsed": true
   },
   "outputs": [],
   "source": [
    "z = (runcounter-muG)/sigmaG"
   ]
  },
  {
   "cell_type": "code",
   "execution_count": 45,
   "metadata": {},
   "outputs": [
    {
     "data": {
      "text/plain": [
       "0.8518289914164604"
      ]
     },
     "execution_count": 45,
     "metadata": {},
     "output_type": "execute_result"
    }
   ],
   "source": [
    "z\n"
   ]
  },
  {
   "cell_type": "markdown",
   "metadata": {},
   "source": [
    "So I will fail to reject my null hypothesis."
   ]
  },
  {
   "cell_type": "code",
   "execution_count": null,
   "metadata": {
    "collapsed": true
   },
   "outputs": [],
   "source": []
  }
 ],
 "metadata": {
  "kernelspec": {
   "display_name": "Python 3",
   "language": "python",
   "name": "python3"
  },
  "language_info": {
   "codemirror_mode": {
    "name": "ipython",
    "version": 3
   },
   "file_extension": ".py",
   "mimetype": "text/x-python",
   "name": "python",
   "nbconvert_exporter": "python",
   "pygments_lexer": "ipython3",
   "version": "3.6.1"
  }
 },
 "nbformat": 4,
 "nbformat_minor": 2
}
