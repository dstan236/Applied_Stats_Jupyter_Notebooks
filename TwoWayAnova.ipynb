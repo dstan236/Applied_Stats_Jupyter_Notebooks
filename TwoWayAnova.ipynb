{
 "cells": [
  {
   "cell_type": "markdown",
   "metadata": {},
   "source": [
    "# Two Way Anova"
   ]
  },
  {
   "cell_type": "code",
   "execution_count": 1,
   "metadata": {
    "collapsed": true
   },
   "outputs": [],
   "source": [
    "#Load your packages\n",
    "import numpy as np\n",
    "from scipy import stats\n",
    "import matplotlib.pyplot as plt\n",
    "import pandas as pa\n",
    "\n",
    "\n",
    "\n",
    "%matplotlib inline"
   ]
  },
  {
   "cell_type": "code",
   "execution_count": 2,
   "metadata": {
    "collapsed": true
   },
   "outputs": [],
   "source": [
    "#https://scikit-learn.org/stable/modules/generated/sklearn.linear_model.LinearRegression.html"
   ]
  },
  {
   "cell_type": "markdown",
   "metadata": {},
   "source": [
    "# Time For Data "
   ]
  },
  {
   "cell_type": "code",
   "execution_count": 3,
   "metadata": {
    "collapsed": true
   },
   "outputs": [],
   "source": [
    "data = pa.read_csv('student.csv') #We used this data for contingency tables."
   ]
  },
  {
   "cell_type": "code",
   "execution_count": 4,
   "metadata": {},
   "outputs": [
    {
     "data": {
      "text/html": [
       "<div>\n",
       "<style scoped>\n",
       "    .dataframe tbody tr th:only-of-type {\n",
       "        vertical-align: middle;\n",
       "    }\n",
       "\n",
       "    .dataframe tbody tr th {\n",
       "        vertical-align: top;\n",
       "    }\n",
       "\n",
       "    .dataframe thead th {\n",
       "        text-align: right;\n",
       "    }\n",
       "</style>\n",
       "<table border=\"1\" class=\"dataframe\">\n",
       "  <thead>\n",
       "    <tr style=\"text-align: right;\">\n",
       "      <th></th>\n",
       "      <th>Year</th>\n",
       "      <th>Gender</th>\n",
       "      <th>Smoke</th>\n",
       "      <th>Award</th>\n",
       "      <th>HigherSAT</th>\n",
       "      <th>Exercise</th>\n",
       "      <th>TV</th>\n",
       "      <th>Height</th>\n",
       "      <th>Weight</th>\n",
       "      <th>Siblings</th>\n",
       "      <th>BirthOrder</th>\n",
       "      <th>VerbalSAT</th>\n",
       "      <th>MathSAT</th>\n",
       "      <th>SAT</th>\n",
       "      <th>GPA</th>\n",
       "      <th>Pulse</th>\n",
       "      <th>Piercings</th>\n",
       "    </tr>\n",
       "  </thead>\n",
       "  <tbody>\n",
       "    <tr>\n",
       "      <th>0</th>\n",
       "      <td>Senior</td>\n",
       "      <td>M</td>\n",
       "      <td>No</td>\n",
       "      <td>Olympic</td>\n",
       "      <td>Math</td>\n",
       "      <td>10.0</td>\n",
       "      <td>1.0</td>\n",
       "      <td>71.0</td>\n",
       "      <td>180.0</td>\n",
       "      <td>4</td>\n",
       "      <td>4.0</td>\n",
       "      <td>540</td>\n",
       "      <td>670</td>\n",
       "      <td>1210</td>\n",
       "      <td>3.13</td>\n",
       "      <td>54</td>\n",
       "      <td>0.0</td>\n",
       "    </tr>\n",
       "    <tr>\n",
       "      <th>1</th>\n",
       "      <td>Sophomore</td>\n",
       "      <td>F</td>\n",
       "      <td>Yes</td>\n",
       "      <td>Academy</td>\n",
       "      <td>Math</td>\n",
       "      <td>4.0</td>\n",
       "      <td>7.0</td>\n",
       "      <td>66.0</td>\n",
       "      <td>120.0</td>\n",
       "      <td>2</td>\n",
       "      <td>2.0</td>\n",
       "      <td>520</td>\n",
       "      <td>630</td>\n",
       "      <td>1150</td>\n",
       "      <td>2.50</td>\n",
       "      <td>66</td>\n",
       "      <td>3.0</td>\n",
       "    </tr>\n",
       "    <tr>\n",
       "      <th>2</th>\n",
       "      <td>FirstYear</td>\n",
       "      <td>M</td>\n",
       "      <td>No</td>\n",
       "      <td>Nobel</td>\n",
       "      <td>Math</td>\n",
       "      <td>14.0</td>\n",
       "      <td>5.0</td>\n",
       "      <td>72.0</td>\n",
       "      <td>208.0</td>\n",
       "      <td>2</td>\n",
       "      <td>1.0</td>\n",
       "      <td>550</td>\n",
       "      <td>560</td>\n",
       "      <td>1110</td>\n",
       "      <td>2.55</td>\n",
       "      <td>130</td>\n",
       "      <td>0.0</td>\n",
       "    </tr>\n",
       "    <tr>\n",
       "      <th>3</th>\n",
       "      <td>Junior</td>\n",
       "      <td>M</td>\n",
       "      <td>No</td>\n",
       "      <td>Nobel</td>\n",
       "      <td>Math</td>\n",
       "      <td>3.0</td>\n",
       "      <td>1.0</td>\n",
       "      <td>63.0</td>\n",
       "      <td>110.0</td>\n",
       "      <td>1</td>\n",
       "      <td>1.0</td>\n",
       "      <td>490</td>\n",
       "      <td>630</td>\n",
       "      <td>1120</td>\n",
       "      <td>3.10</td>\n",
       "      <td>78</td>\n",
       "      <td>0.0</td>\n",
       "    </tr>\n",
       "    <tr>\n",
       "      <th>4</th>\n",
       "      <td>Sophomore</td>\n",
       "      <td>F</td>\n",
       "      <td>No</td>\n",
       "      <td>Nobel</td>\n",
       "      <td>Verbal</td>\n",
       "      <td>3.0</td>\n",
       "      <td>3.0</td>\n",
       "      <td>65.0</td>\n",
       "      <td>150.0</td>\n",
       "      <td>1</td>\n",
       "      <td>1.0</td>\n",
       "      <td>720</td>\n",
       "      <td>450</td>\n",
       "      <td>1170</td>\n",
       "      <td>2.70</td>\n",
       "      <td>40</td>\n",
       "      <td>6.0</td>\n",
       "    </tr>\n",
       "    <tr>\n",
       "      <th>5</th>\n",
       "      <td>Sophomore</td>\n",
       "      <td>F</td>\n",
       "      <td>No</td>\n",
       "      <td>Nobel</td>\n",
       "      <td>Verbal</td>\n",
       "      <td>5.0</td>\n",
       "      <td>4.0</td>\n",
       "      <td>65.0</td>\n",
       "      <td>114.0</td>\n",
       "      <td>2</td>\n",
       "      <td>2.0</td>\n",
       "      <td>600</td>\n",
       "      <td>550</td>\n",
       "      <td>1150</td>\n",
       "      <td>3.20</td>\n",
       "      <td>80</td>\n",
       "      <td>4.0</td>\n",
       "    </tr>\n",
       "    <tr>\n",
       "      <th>6</th>\n",
       "      <td>FirstYear</td>\n",
       "      <td>F</td>\n",
       "      <td>No</td>\n",
       "      <td>Olympic</td>\n",
       "      <td>Math</td>\n",
       "      <td>10.0</td>\n",
       "      <td>10.0</td>\n",
       "      <td>66.0</td>\n",
       "      <td>128.0</td>\n",
       "      <td>1</td>\n",
       "      <td>1.0</td>\n",
       "      <td>640</td>\n",
       "      <td>680</td>\n",
       "      <td>1320</td>\n",
       "      <td>2.77</td>\n",
       "      <td>94</td>\n",
       "      <td>8.0</td>\n",
       "    </tr>\n",
       "    <tr>\n",
       "      <th>7</th>\n",
       "      <td>Sophomore</td>\n",
       "      <td>M</td>\n",
       "      <td>No</td>\n",
       "      <td>Olympic</td>\n",
       "      <td>Math</td>\n",
       "      <td>13.0</td>\n",
       "      <td>8.0</td>\n",
       "      <td>74.0</td>\n",
       "      <td>235.0</td>\n",
       "      <td>1</td>\n",
       "      <td>1.0</td>\n",
       "      <td>660</td>\n",
       "      <td>710</td>\n",
       "      <td>1370</td>\n",
       "      <td>3.30</td>\n",
       "      <td>77</td>\n",
       "      <td>0.0</td>\n",
       "    </tr>\n",
       "    <tr>\n",
       "      <th>8</th>\n",
       "      <td>Junior</td>\n",
       "      <td>F</td>\n",
       "      <td>No</td>\n",
       "      <td>Nobel</td>\n",
       "      <td>Verbal</td>\n",
       "      <td>3.0</td>\n",
       "      <td>6.0</td>\n",
       "      <td>61.0</td>\n",
       "      <td>NaN</td>\n",
       "      <td>2</td>\n",
       "      <td>2.0</td>\n",
       "      <td>550</td>\n",
       "      <td>550</td>\n",
       "      <td>1100</td>\n",
       "      <td>2.80</td>\n",
       "      <td>60</td>\n",
       "      <td>7.0</td>\n",
       "    </tr>\n",
       "    <tr>\n",
       "      <th>9</th>\n",
       "      <td>FirstYear</td>\n",
       "      <td>F</td>\n",
       "      <td>No</td>\n",
       "      <td>Nobel</td>\n",
       "      <td>Math</td>\n",
       "      <td>12.0</td>\n",
       "      <td>1.0</td>\n",
       "      <td>60.0</td>\n",
       "      <td>115.0</td>\n",
       "      <td>7</td>\n",
       "      <td>8.0</td>\n",
       "      <td>670</td>\n",
       "      <td>700</td>\n",
       "      <td>1370</td>\n",
       "      <td>3.70</td>\n",
       "      <td>94</td>\n",
       "      <td>2.0</td>\n",
       "    </tr>\n",
       "    <tr>\n",
       "      <th>10</th>\n",
       "      <td>Sophomore</td>\n",
       "      <td>F</td>\n",
       "      <td>No</td>\n",
       "      <td>Olympic</td>\n",
       "      <td>Math</td>\n",
       "      <td>12.0</td>\n",
       "      <td>6.0</td>\n",
       "      <td>65.0</td>\n",
       "      <td>140.0</td>\n",
       "      <td>1</td>\n",
       "      <td>2.0</td>\n",
       "      <td>500</td>\n",
       "      <td>670</td>\n",
       "      <td>1170</td>\n",
       "      <td>2.09</td>\n",
       "      <td>63</td>\n",
       "      <td>2.0</td>\n",
       "    </tr>\n",
       "    <tr>\n",
       "      <th>11</th>\n",
       "      <td>FirstYear</td>\n",
       "      <td>M</td>\n",
       "      <td>No</td>\n",
       "      <td>Olympic</td>\n",
       "      <td>Math</td>\n",
       "      <td>10.0</td>\n",
       "      <td>5.0</td>\n",
       "      <td>63.0</td>\n",
       "      <td>200.0</td>\n",
       "      <td>2</td>\n",
       "      <td>2.0</td>\n",
       "      <td>580</td>\n",
       "      <td>600</td>\n",
       "      <td>1180</td>\n",
       "      <td>NaN</td>\n",
       "      <td>72</td>\n",
       "      <td>0.0</td>\n",
       "    </tr>\n",
       "    <tr>\n",
       "      <th>12</th>\n",
       "      <td>Sophomore</td>\n",
       "      <td>M</td>\n",
       "      <td>No</td>\n",
       "      <td>Olympic</td>\n",
       "      <td>Math</td>\n",
       "      <td>12.0</td>\n",
       "      <td>8.0</td>\n",
       "      <td>68.0</td>\n",
       "      <td>162.0</td>\n",
       "      <td>3</td>\n",
       "      <td>NaN</td>\n",
       "      <td>530</td>\n",
       "      <td>620</td>\n",
       "      <td>1150</td>\n",
       "      <td>2.90</td>\n",
       "      <td>54</td>\n",
       "      <td>0.0</td>\n",
       "    </tr>\n",
       "    <tr>\n",
       "      <th>13</th>\n",
       "      <td>Junior</td>\n",
       "      <td>F</td>\n",
       "      <td>No</td>\n",
       "      <td>Nobel</td>\n",
       "      <td>Verbal</td>\n",
       "      <td>6.0</td>\n",
       "      <td>1.0</td>\n",
       "      <td>68.0</td>\n",
       "      <td>135.0</td>\n",
       "      <td>2</td>\n",
       "      <td>3.0</td>\n",
       "      <td>650</td>\n",
       "      <td>650</td>\n",
       "      <td>1300</td>\n",
       "      <td>3.08</td>\n",
       "      <td>66</td>\n",
       "      <td>4.0</td>\n",
       "    </tr>\n",
       "    <tr>\n",
       "      <th>14</th>\n",
       "      <td>FirstYear</td>\n",
       "      <td>M</td>\n",
       "      <td>No</td>\n",
       "      <td>Nobel</td>\n",
       "      <td>Verbal</td>\n",
       "      <td>9.0</td>\n",
       "      <td>5.0</td>\n",
       "      <td>68.0</td>\n",
       "      <td>193.0</td>\n",
       "      <td>1</td>\n",
       "      <td>1.0</td>\n",
       "      <td>700</td>\n",
       "      <td>650</td>\n",
       "      <td>1350</td>\n",
       "      <td>NaN</td>\n",
       "      <td>72</td>\n",
       "      <td>0.0</td>\n",
       "    </tr>\n",
       "    <tr>\n",
       "      <th>15</th>\n",
       "      <td>FirstYear</td>\n",
       "      <td>F</td>\n",
       "      <td>No</td>\n",
       "      <td>Olympic</td>\n",
       "      <td>Math</td>\n",
       "      <td>10.0</td>\n",
       "      <td>2.0</td>\n",
       "      <td>63.0</td>\n",
       "      <td>110.0</td>\n",
       "      <td>1</td>\n",
       "      <td>2.0</td>\n",
       "      <td>590</td>\n",
       "      <td>610</td>\n",
       "      <td>1200</td>\n",
       "      <td>3.86</td>\n",
       "      <td>59</td>\n",
       "      <td>4.0</td>\n",
       "    </tr>\n",
       "    <tr>\n",
       "      <th>16</th>\n",
       "      <td>FirstYear</td>\n",
       "      <td>F</td>\n",
       "      <td>No</td>\n",
       "      <td>Olympic</td>\n",
       "      <td>Verbal</td>\n",
       "      <td>3.0</td>\n",
       "      <td>15.0</td>\n",
       "      <td>63.0</td>\n",
       "      <td>99.0</td>\n",
       "      <td>2</td>\n",
       "      <td>1.0</td>\n",
       "      <td>600</td>\n",
       "      <td>600</td>\n",
       "      <td>1200</td>\n",
       "      <td>3.00</td>\n",
       "      <td>88</td>\n",
       "      <td>4.0</td>\n",
       "    </tr>\n",
       "    <tr>\n",
       "      <th>17</th>\n",
       "      <td>Sophomore</td>\n",
       "      <td>M</td>\n",
       "      <td>No</td>\n",
       "      <td>Nobel</td>\n",
       "      <td>Verbal</td>\n",
       "      <td>7.0</td>\n",
       "      <td>3.0</td>\n",
       "      <td>72.0</td>\n",
       "      <td>165.0</td>\n",
       "      <td>2</td>\n",
       "      <td>1.0</td>\n",
       "      <td>700</td>\n",
       "      <td>650</td>\n",
       "      <td>1350</td>\n",
       "      <td>3.00</td>\n",
       "      <td>59</td>\n",
       "      <td>0.0</td>\n",
       "    </tr>\n",
       "    <tr>\n",
       "      <th>18</th>\n",
       "      <td>Sophomore</td>\n",
       "      <td>F</td>\n",
       "      <td>No</td>\n",
       "      <td>Nobel</td>\n",
       "      <td>Math</td>\n",
       "      <td>2.0</td>\n",
       "      <td>1.0</td>\n",
       "      <td>62.0</td>\n",
       "      <td>120.0</td>\n",
       "      <td>1</td>\n",
       "      <td>1.0</td>\n",
       "      <td>610</td>\n",
       "      <td>800</td>\n",
       "      <td>1410</td>\n",
       "      <td>3.35</td>\n",
       "      <td>64</td>\n",
       "      <td>2.0</td>\n",
       "    </tr>\n",
       "    <tr>\n",
       "      <th>19</th>\n",
       "      <td>Sophomore</td>\n",
       "      <td>F</td>\n",
       "      <td>No</td>\n",
       "      <td>Olympic</td>\n",
       "      <td>Verbal</td>\n",
       "      <td>14.0</td>\n",
       "      <td>2.0</td>\n",
       "      <td>67.0</td>\n",
       "      <td>154.0</td>\n",
       "      <td>1</td>\n",
       "      <td>2.0</td>\n",
       "      <td>550</td>\n",
       "      <td>450</td>\n",
       "      <td>1000</td>\n",
       "      <td>3.30</td>\n",
       "      <td>72</td>\n",
       "      <td>5.0</td>\n",
       "    </tr>\n",
       "  </tbody>\n",
       "</table>\n",
       "</div>"
      ],
      "text/plain": [
       "         Year Gender Smoke    Award HigherSAT  Exercise    TV  Height  Weight  \\\n",
       "0      Senior      M    No  Olympic      Math      10.0   1.0    71.0   180.0   \n",
       "1   Sophomore      F   Yes  Academy      Math       4.0   7.0    66.0   120.0   \n",
       "2   FirstYear      M    No    Nobel      Math      14.0   5.0    72.0   208.0   \n",
       "3      Junior      M    No    Nobel      Math       3.0   1.0    63.0   110.0   \n",
       "4   Sophomore      F    No    Nobel    Verbal       3.0   3.0    65.0   150.0   \n",
       "5   Sophomore      F    No    Nobel    Verbal       5.0   4.0    65.0   114.0   \n",
       "6   FirstYear      F    No  Olympic      Math      10.0  10.0    66.0   128.0   \n",
       "7   Sophomore      M    No  Olympic      Math      13.0   8.0    74.0   235.0   \n",
       "8      Junior      F    No    Nobel    Verbal       3.0   6.0    61.0     NaN   \n",
       "9   FirstYear      F    No    Nobel      Math      12.0   1.0    60.0   115.0   \n",
       "10  Sophomore      F    No  Olympic      Math      12.0   6.0    65.0   140.0   \n",
       "11  FirstYear      M    No  Olympic      Math      10.0   5.0    63.0   200.0   \n",
       "12  Sophomore      M    No  Olympic      Math      12.0   8.0    68.0   162.0   \n",
       "13     Junior      F    No    Nobel    Verbal       6.0   1.0    68.0   135.0   \n",
       "14  FirstYear      M    No    Nobel    Verbal       9.0   5.0    68.0   193.0   \n",
       "15  FirstYear      F    No  Olympic      Math      10.0   2.0    63.0   110.0   \n",
       "16  FirstYear      F    No  Olympic    Verbal       3.0  15.0    63.0    99.0   \n",
       "17  Sophomore      M    No    Nobel    Verbal       7.0   3.0    72.0   165.0   \n",
       "18  Sophomore      F    No    Nobel      Math       2.0   1.0    62.0   120.0   \n",
       "19  Sophomore      F    No  Olympic    Verbal      14.0   2.0    67.0   154.0   \n",
       "\n",
       "    Siblings  BirthOrder  VerbalSAT  MathSAT   SAT   GPA  Pulse  Piercings  \n",
       "0          4         4.0        540      670  1210  3.13     54        0.0  \n",
       "1          2         2.0        520      630  1150  2.50     66        3.0  \n",
       "2          2         1.0        550      560  1110  2.55    130        0.0  \n",
       "3          1         1.0        490      630  1120  3.10     78        0.0  \n",
       "4          1         1.0        720      450  1170  2.70     40        6.0  \n",
       "5          2         2.0        600      550  1150  3.20     80        4.0  \n",
       "6          1         1.0        640      680  1320  2.77     94        8.0  \n",
       "7          1         1.0        660      710  1370  3.30     77        0.0  \n",
       "8          2         2.0        550      550  1100  2.80     60        7.0  \n",
       "9          7         8.0        670      700  1370  3.70     94        2.0  \n",
       "10         1         2.0        500      670  1170  2.09     63        2.0  \n",
       "11         2         2.0        580      600  1180   NaN     72        0.0  \n",
       "12         3         NaN        530      620  1150  2.90     54        0.0  \n",
       "13         2         3.0        650      650  1300  3.08     66        4.0  \n",
       "14         1         1.0        700      650  1350   NaN     72        0.0  \n",
       "15         1         2.0        590      610  1200  3.86     59        4.0  \n",
       "16         2         1.0        600      600  1200  3.00     88        4.0  \n",
       "17         2         1.0        700      650  1350  3.00     59        0.0  \n",
       "18         1         1.0        610      800  1410  3.35     64        2.0  \n",
       "19         1         2.0        550      450  1000  3.30     72        5.0  "
      ]
     },
     "execution_count": 4,
     "metadata": {},
     "output_type": "execute_result"
    }
   ],
   "source": [
    "data.iloc[0:20,:]"
   ]
  },
  {
   "cell_type": "code",
   "execution_count": 5,
   "metadata": {
    "collapsed": true
   },
   "outputs": [],
   "source": [
    "#I am going to look at men vs woman, smoking and the effects on height.\n",
    "smoke = np.array(data.iloc[:,2])\n",
    "gender = np.array(data.iloc[:,1])\n",
    "height = np.array(data.iloc[:,7])"
   ]
  },
  {
   "cell_type": "code",
   "execution_count": 6,
   "metadata": {
    "collapsed": true
   },
   "outputs": [],
   "source": [
    "#bianize the data...\n",
    "smoker = smoke == 'Yes'\n",
    "male = gender == 'M'"
   ]
  },
  {
   "cell_type": "code",
   "execution_count": 7,
   "metadata": {
    "collapsed": true
   },
   "outputs": [],
   "source": [
    "ms = height[smoker*male]#grabing male smokers\n",
    "ms = ms[~np.isnan(ms)] #getting rid of missing data\n",
    "nms = len(ms) #computing the length\n",
    "ms = ms[np.random.choice(len(ms),10)] #randomly choicing 10 from the data\n",
    "mums = np.mean(ms) #compute the mean\n",
    "ws = height[smoker*np.logical_not(male)] #Do it again...\n",
    "ws = ws[~np.isnan(ws)]\n",
    "nws = len(ws)\n",
    "ws = ws[np.random.choice(len(ws),10)]\n",
    "muws = np.mean(ws)\n",
    "mn = height[np.logical_not(smoker)*male]\n",
    "mn = mn[~np.isnan(mn)]\n",
    "nmn = len(mn)\n",
    "mn = mn[np.random.choice(len(mn),10)]\n",
    "mumn = np.mean(mn)\n",
    "wn = height[np.logical_not(smoker)*np.logical_not(male)]\n",
    "wn = wn[~np.isnan(wn)]\n",
    "nwn = len(wn)\n",
    "wn = wn[np.random.choice(len(wn),10)]\n",
    "muwn = np.mean(wn)"
   ]
  },
  {
   "cell_type": "code",
   "execution_count": 8,
   "metadata": {},
   "outputs": [
    {
     "data": {
      "text/plain": [
       "array([ 72.,  69.,  74.,  73.,  67.,  75.,  74.,  73.,  68.,  70.])"
      ]
     },
     "execution_count": 8,
     "metadata": {},
     "output_type": "execute_result"
    }
   ],
   "source": [
    "ms"
   ]
  },
  {
   "cell_type": "code",
   "execution_count": 9,
   "metadata": {},
   "outputs": [
    {
     "data": {
      "text/plain": [
       "array([ 71.,  72.,  71.,  66.,  72.,  70.,  68.,  76.,  71.,  66.])"
      ]
     },
     "execution_count": 9,
     "metadata": {},
     "output_type": "execute_result"
    }
   ],
   "source": [
    "mn"
   ]
  },
  {
   "cell_type": "code",
   "execution_count": 10,
   "metadata": {},
   "outputs": [
    {
     "data": {
      "text/plain": [
       "array([ 64.,  60.,  66.,  65.,  67.,  66.,  66.,  66.,  66.,  66.])"
      ]
     },
     "execution_count": 10,
     "metadata": {},
     "output_type": "execute_result"
    }
   ],
   "source": [
    "ws"
   ]
  },
  {
   "cell_type": "code",
   "execution_count": 11,
   "metadata": {},
   "outputs": [
    {
     "data": {
      "text/plain": [
       "array([ 68.,  67.,  66.,  63.,  66.,  65.,  64.,  63.,  64.,  66.])"
      ]
     },
     "execution_count": 11,
     "metadata": {},
     "output_type": "execute_result"
    }
   ],
   "source": [
    "wn"
   ]
  },
  {
   "cell_type": "markdown",
   "metadata": {},
   "source": [
    "Time for some sum of the squares computations"
   ]
  },
  {
   "cell_type": "code",
   "execution_count": 12,
   "metadata": {
    "collapsed": true
   },
   "outputs": [],
   "source": [
    "w = np.append(ws,wn) #Make woman\n",
    "nw = len(w)\n",
    "muw = np.mean(w)\n",
    "m = np.append(ms,mn)#make men\n",
    "nm = len(m)\n",
    "mum = np.mean(m)\n",
    "s = np.append(ms,ws)#smokers\n",
    "nums = len(s)\n",
    "mus = np.mean(s)\n",
    "ns = np.append(mn,wn)#not\n",
    "nns = len(ns)\n",
    "muns = np.mean(ns)"
   ]
  },
  {
   "cell_type": "code",
   "execution_count": 13,
   "metadata": {},
   "outputs": [
    {
     "name": "stdout",
     "output_type": "stream",
     "text": [
      "40\n"
     ]
    },
    {
     "data": {
      "text/plain": [
       "67.974999999999994"
      ]
     },
     "execution_count": 13,
     "metadata": {},
     "output_type": "execute_result"
    }
   ],
   "source": [
    "heightnew = np.append(w,m) #make all \n",
    "mean = np.mean(heightnew)\n",
    "print(len(heightnew))\n",
    "mean"
   ]
  },
  {
   "cell_type": "code",
   "execution_count": 14,
   "metadata": {
    "collapsed": true
   },
   "outputs": [],
   "source": [
    "#so now we compute!\n",
    "SStot = 40*np.std(heightnew)**2\n",
    "SSgen = 2*10*((mean-muw)**2+(mean-mum)**2)\n",
    "SSsmo = 2*10*((mean-mus)**2+(mean-muns)**2)\n",
    "SSbetw = 10*((mums-mum-mus+mean)**2+(muws-muw-mus+mean)**2+(mumn-mum-muns+mean)**2+(muwn-muw-muns+mean)**2)\n",
    "SSe = SStot-SSgen-SSsmo - SSbetw "
   ]
  },
  {
   "cell_type": "code",
   "execution_count": 15,
   "metadata": {},
   "outputs": [
    {
     "data": {
      "text/plain": [
       "242.90000000000032"
      ]
     },
     "execution_count": 15,
     "metadata": {},
     "output_type": "execute_result"
    }
   ],
   "source": [
    "SSe"
   ]
  },
  {
   "cell_type": "code",
   "execution_count": 16,
   "metadata": {
    "collapsed": true
   },
   "outputs": [],
   "source": [
    "Fint = (SSbetw/1)/(SSe/(40-4))\n",
    "Fgen = SSgen/(SSe/(40-4))\n",
    "Fsmo = SSsmo/(SSe/(40-4))\n",
    "Famoung = ((SSgen+SSsmo+SSbetw)/3)/(SSe/(40-4))"
   ]
  },
  {
   "cell_type": "code",
   "execution_count": 18,
   "metadata": {},
   "outputs": [
    {
     "name": "stdout",
     "output_type": "stream",
     "text": [
      "0.58718599466\n",
      "6.86196313104e-08\n",
      "0.58718599466\n",
      "1.29833305129e-06\n"
     ]
    }
   ],
   "source": [
    "#Great let's get some p values and move on with our lives...\n",
    "print(1-stats.f.cdf(Fint,1,36))\n",
    "print(1-stats.f.cdf(Fgen,1,36))\n",
    "print(1-stats.f.cdf(Fsmo,1,36))\n",
    "print(1-stats.f.cdf(Famoung,3,36))"
   ]
  },
  {
   "cell_type": "code",
   "execution_count": 136,
   "metadata": {},
   "outputs": [
    {
     "name": "stdout",
     "output_type": "stream",
     "text": [
      "70.9 65.9\n"
     ]
    }
   ],
   "source": [
    "print(mum,muw)"
   ]
  },
  {
   "cell_type": "code",
   "execution_count": 138,
   "metadata": {},
   "outputs": [
    {
     "name": "stdout",
     "output_type": "stream",
     "text": [
      "69.8 67.0\n"
     ]
    }
   ],
   "source": [
    "print(mus,muns)"
   ]
  },
  {
   "cell_type": "code",
   "execution_count": 22,
   "metadata": {},
   "outputs": [
    {
     "data": {
      "text/plain": [
       "242.90000000000032"
      ]
     },
     "execution_count": 22,
     "metadata": {},
     "output_type": "execute_result"
    }
   ],
   "source": [
    "SSe"
   ]
  },
  {
   "cell_type": "markdown",
   "metadata": {
    "collapsed": true
   },
   "source": [
    "This was not the most effiecient code but it should give you an idea of what it takes to do the two way ANOVA.  Be aware of the sampling I had to do on the data set to get the data ranges to match up!"
   ]
  },
  {
   "cell_type": "code",
   "execution_count": null,
   "metadata": {
    "collapsed": true
   },
   "outputs": [],
   "source": []
  }
 ],
 "metadata": {
  "kernelspec": {
   "display_name": "Python 3",
   "language": "python",
   "name": "python3"
  },
  "language_info": {
   "codemirror_mode": {
    "name": "ipython",
    "version": 3
   },
   "file_extension": ".py",
   "mimetype": "text/x-python",
   "name": "python",
   "nbconvert_exporter": "python",
   "pygments_lexer": "ipython3",
   "version": "3.6.1"
  }
 },
 "nbformat": 4,
 "nbformat_minor": 2
}
